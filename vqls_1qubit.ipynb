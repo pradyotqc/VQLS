{
 "cells": [
  {
   "cell_type": "code",
   "execution_count": 10,
   "metadata": {},
   "outputs": [],
   "source": [
    "import numpy as np\n",
    "from qiskit import QuantumCircuit, transpile\n",
    "from qiskit_aer import Aer\n",
    "from qiskit.circuit.library import EfficientSU2\n",
    "from qiskit_algorithms.optimizers import COBYLA\n",
    "from qiskit.primitives import Estimator\n",
    "from qiskit.quantum_info import Pauli\n",
    "from scipy.optimize import minimize\n",
    "from qiskit.quantum_info import SparsePauliOp\n",
    "from qiskit.quantum_info import Statevector\n",
    "from math import sqrt\n"
   ]
  },
  {
   "cell_type": "code",
   "execution_count": 11,
   "metadata": {},
   "outputs": [
    {
     "name": "stdout",
     "output_type": "stream",
     "text": [
      "SparsePauliOp(['I', 'Z', 'X'],\n",
      "              coeffs=[0.+0.j, 1.+0.j, 0.+0.j])\n"
     ]
    }
   ],
   "source": [
    "coeffs = [0, 1, 0]\n",
    "paulis = [\"I\", \"Z\", \"X\"]\n",
    "\n",
    "A_sparse = SparsePauliOp(paulis, coeffs)\n",
    "print(A_sparse)\n",
    "\n",
    "\n",
    "# Define the linear system Ax = b\n",
    "b = np.array([1, 0])  # Right-hand side vector\n",
    "\n"
   ]
  },
  {
   "cell_type": "code",
   "execution_count": 12,
   "metadata": {},
   "outputs": [],
   "source": [
    "# Define ansatz circuit (trial wavefunction)\n",
    "def ansatz(params):\n",
    "    circuit = QuantumCircuit(1)\n",
    "    # circuit.h(0)\n",
    "    circuit.rx(params[0], 0)\n",
    "    circuit.ry(params[1], 0)\n",
    "    circuit.rz(params[2], 0)\n",
    "    return circuit\n",
    "\n",
    "# Cost function to minimize (based on expectation value)\n",
    "def cost_function(params):\n",
    "    circuit = ansatz(params) #Ansatz circuit\n",
    "    state = Statevector(circuit) #Statevector of the ansatz circuit\n",
    "    observable = A_sparse#Operator A\n",
    "    Ax_state = Statevector.evolve(state, observable)#A|psi>\n",
    "    b_state = Statevector(b).conjugate()#|b>\n",
    "    fidelity = b_state.inner(Ax_state)#<b|A|psi>\n",
    "    # print(fidelity)#Print fidelity\n",
    "    cost = abs(1 - fidelity)#Cost function\n",
    "    print(\"Parameters:\", params, \"Cost:\", cost)\n",
    "    return cost\n"
   ]
  },
  {
   "cell_type": "code",
   "execution_count": 13,
   "metadata": {},
   "outputs": [
    {
     "name": "stdout",
     "output_type": "stream",
     "text": [
      "Parameters: [0.39182641 0.5249451  0.31065046] Cost: 0.11185394771458108\n",
      "Parameters: [1.39182641 0.5249451  0.31065046] Cost: 0.2470518331018908\n",
      "Parameters: [0.39182641 1.5249451  0.31065046] Cost: 0.2793986214366489\n",
      "Parameters: [0.39182641 0.5249451  1.31065046] Cost: 0.5798501133910651\n",
      "Parameters: [ 0.12937802  0.19970459 -0.59783149] Cost: 0.30322888793645164\n",
      "Parameters: [ 0.26060222  0.36232484 -0.14359052] Cost: 0.09768313937057391\n",
      "Parameters: [ 0.11086547  0.17676281 -0.06845303] Cost: 0.039409433794733766\n",
      "Parameters: [-0.03409692 -0.01217962  0.00761708] Cost: 0.003708022733494742\n",
      "Parameters: [-0.24262059 -0.14935065 -0.00659518] Cost: 0.015941782057353488\n",
      "Parameters: [ 0.02137137 -0.08795294 -0.07488548] Cost: 0.03696564485607324\n",
      "Parameters: [-0.0070931  -0.03216597  0.25534947] Cost: 0.1275225341412653\n",
      "Parameters: [-0.08443181  0.08412796 -0.0541587 ] Cost: 0.02534047729902803\n",
      "Parameters: [-0.0319671  -0.00744531  0.06990111] Cost: 0.034887187806181864\n",
      "Parameters: [-0.01022013  0.00784517  0.00527849] Cost: 0.0026593408817885567\n",
      "Parameters: [-0.04427354  0.04784073 -0.02858845] Cost: 0.013770993533780172\n",
      "Parameters: [ 0.00445686 -0.00982499 -0.01590911] Cost: 0.007943540762090664\n",
      "Parameters: [-0.00359778  0.00919117  0.03578906] Cost: 0.017902454865198675\n",
      "Parameters: [-0.0184739   0.01772281 -0.00357861] Cost: 0.0017093412181805989\n",
      "Parameters: [-0.02109537  0.02368406  0.00073724] Cost: 0.0005092690711587805\n",
      "Parameters: [-0.02370359  0.02991171  0.00466771] Cost: 0.0025174934772617154\n",
      "Parameters: [-1.78399734e-02  2.56912874e-02 -5.78981675e-05] Cost: 0.0001492834851829859\n",
      "Parameters: [-0.0168941   0.03299914  0.00253744] Cost: 0.0014184269518439793\n",
      "Parameters: [-0.01948434  0.0270642  -0.00332439] Cost: 0.0015365451832907457\n",
      "Parameters: [-0.01227853  0.02092759  0.00266473] Cost: 0.0013984932516261683\n",
      "Parameters: [-0.01784123  0.0256359  -0.00396376] Cost: 0.001871386476220624\n",
      "Parameters: [-0.01664206  0.02467348  0.00110131] Cost: 0.0006625950035818337\n",
      "Parameters: [-0.01835543  0.02731014  0.0009056 ] Cost: 0.0005937223475387126\n",
      "Parameters: [-0.01865289  0.0251897   0.0001452 ] Cost: 0.00022627783632043902\n",
      "Parameters: [-0.01785903  0.02566377 -0.00103389] Cost: 0.0004204715504797897\n",
      "Parameters: [-0.01752344  0.02540962  0.00018477] Cost: 0.00023594985111231775\n",
      "Parameters: [-0.01793595  0.02609638  0.00019726] Cost: 0.0002494162544265923\n",
      "Parameters: [-0.01783585  0.02568547 -0.00030193] Cost: 0.0001275337665261093\n",
      "Parameters: [-0.01803904  0.02555572 -0.00034044] Cost: 0.00013408260363323104\n",
      "Parameters: [-0.01790104  0.02578861 -0.00030549] Cost: 0.00012870701145571988\n",
      "Parameters: [-0.01773312  0.02571467 -0.00052148] Cost: 0.00019078509601224667\n",
      "Parameters: [-0.01779377  0.02569743 -0.00039186] Cost: 0.00014686682145362116\n",
      "Parameters: [-0.01787385  0.02566073 -0.00032301] Cost: 0.00013089477424427267\n",
      "Parameters: [-0.01784364  0.02567847 -0.00020248] Cost: 0.00012293447731078259\n",
      "Parameters: [-0.01777882  0.02570618 -0.00013156] Cost: 0.00013137308818704624\n",
      "Optimal parameters: [-0.01777882  0.02570618 -0.00013156]\n",
      "Optimized quantum circuit:\n",
      "Final quantum state:\n",
      "Statevector([0.9998779 -4.84773854e-05j, 0.01285281+8.88771107e-03j],\n",
      "            dims=(2,))\n"
     ]
    }
   ],
   "source": [
    "# Optimization process\n",
    "initial_params = np.random.rand(3)\n",
    "result = minimize(cost_function, initial_params, method='COBYLA')\n",
    "optimal_params = result.x\n",
    "\n",
    "# Display results\n",
    "print(\"Optimal parameters:\", optimal_params)\n",
    "# Final quantum state with optimized parameters\n",
    "final_circuit = ansatz(optimal_params)\n",
    "print(\"Optimized quantum circuit:\")\n",
    "print(\"Final quantum state:\")\n",
    "final_state = Statevector(final_circuit)\n",
    "print(final_state)"
   ]
  },
  {
   "cell_type": "code",
   "execution_count": 14,
   "metadata": {},
   "outputs": [
    {
     "data": {
      "image/png": "[encoded data removed]",
      "text/plain": [
       "<Figure size 436.286x117.056 with 1 Axes>"
      ]
     },
     "execution_count": 14,
     "metadata": {},
     "output_type": "execute_result"
    }
   ],
   "source": [
    "final_circuit.draw(output = 'mpl') "
   ]
  },
  {
   "cell_type": "code",
   "execution_count": 15,
   "metadata": {},
   "outputs": [
    {
     "name": "stdout",
     "output_type": "stream",
     "text": [
      "Statevector([ 0.9998779 -4.84773854e-05j, -0.01285281-8.88771107e-03j],\n",
      "            dims=(2,))\n"
     ]
    }
   ],
   "source": [
    "final_state.evolve(A_sparse)"
   ]
  },
  {
   "cell_type": "code",
   "execution_count": 16,
   "metadata": {},
   "outputs": [
    {
     "name": "stdout",
     "output_type": "stream",
     "text": [
      "Statevector([1.+0.j, 0.+0.j],\n",
      "            dims=(2,))\n"
     ]
    }
   ],
   "source": [
    "b_state = Statevector(b)\n",
    "b_state"
   ]
  },
  {
   "cell_type": "code",
   "execution_count": 17,
   "metadata": {},
   "outputs": [
    {
     "name": "stdout",
     "output_type": "stream",
     "text": [
      "Exact solution: [1.+0.j 0.-0.j]\n"
     ]
    }
   ],
   "source": [
    "# solving the linear system using scipy \n",
    "x = np.linalg.solve(A_sparse, b)\n",
    "print(\"Exact solution:\", x)"
   ]
  },
  {
   "cell_type": "code",
   "execution_count": 18,
   "metadata": {},
   "outputs": [
    {
     "data": {
      "text/plain": [
       "array([[ 1.+0.j,  0.+0.j],\n",
       "       [ 0.+0.j, -1.+0.j]])"
      ]
     },
     "execution_count": 18,
     "metadata": {},
     "output_type": "execute_result"
    }
   ],
   "source": [
    "A_sparse.to_matrix()"
   ]
  }
 ],
 "metadata": {
  "kernelspec": {
   "display_name": "Python 3",
   "language": "python",
   "name": "python3"
  },
  "language_info": {
   "codemirror_mode": {
    "name": "ipython",
    "version": 3
   },
   "file_extension": ".py",
   "mimetype": "text/x-python",
   "name": "python",
   "nbconvert_exporter": "python",
   "pygments_lexer": "ipython3",
   "version": "3.13.1"
  }
 },
 "nbformat": 4,
 "nbformat_minor": 2
}
